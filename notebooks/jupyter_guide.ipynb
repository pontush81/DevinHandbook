{
  "cells": [
    {
      "cell_type": "raw",
      "metadata": {
        "vscode": {
          "languageId": "raw"
        }
      },
      "source": [
        "# Jupyter Notebook Guide\n",
        "\n",
        "Välkommen till Jupyter! Det här notebooken visar dig grunderna i hur du använder Jupyter notebooks.\n",
        "\n",
        "## Vad är en Jupyter Notebook?\n",
        "\n",
        "En Jupyter notebook är ett interaktivt dokument som innehåller:\n",
        "- **Kod celler** - där du skriver och kör Python kod\n",
        "- **Markdown celler** - för text, dokumentation och formatering\n",
        "- **Output celler** - som visar resultatet av din kod\n",
        "\n",
        "## Användningsområden\n",
        "\n",
        "- **Data analys och visualisering**\n",
        "- **Prototyping och experiment**\n",
        "- **Machine learning utveckling**\n",
        "- **Dokumentation med kod exempel**\n",
        "- **Undervisning och presentationer**\n"
      ]
    },
    {
      "cell_type": "raw",
      "metadata": {
        "vscode": {
          "languageId": "raw"
        }
      },
      "source": [
        "## Grundläggande Python kod\n"
      ]
    },
    {
      "cell_type": "code",
      "execution_count": null,
      "metadata": {},
      "outputs": [],
      "source": [
        "# Grundläggande variabler och operationer\n",
        "namn = \"Pontus\"\n",
        "ålder = 30\n",
        "pi = 3.14159\n",
        "\n",
        "print(f\"Hej {namn}!\")\n",
        "print(f\"Du är {ålder} år gammal\")\n",
        "print(f\"Pi = {pi}\")\n",
        "\n",
        "# Matematik\n",
        "summa = 5 + 3\n",
        "produkt = 4 * 7\n",
        "kvot = 20 / 4\n",
        "\n",
        "print(f\"\\nMatematik:\")\n",
        "print(f\"5 + 3 = {summa}\")\n",
        "print(f\"4 * 7 = {produkt}\")\n",
        "print(f\"20 / 4 = {kvot}\")\n"
      ]
    },
    {
      "cell_type": "raw",
      "metadata": {
        "vscode": {
          "languageId": "raw"
        }
      },
      "source": [
        "## Arbeta med listor och data\n"
      ]
    },
    {
      "cell_type": "code",
      "execution_count": null,
      "metadata": {},
      "outputs": [],
      "source": [
        "# Skapa listor med data\n",
        "städer = [\"Stockholm\", \"Göteborg\", \"Malmö\", \"Uppsala\", \"Västerås\"]\n",
        "temperaturer = [22, 18, 25, 20, 19]\n",
        "\n",
        "print(\"Svenska städer:\")\n",
        "for i, stad in enumerate(städer):\n",
        "    print(f\"{i+1}. {stad} - {temperaturer[i]}°C\")\n",
        "\n",
        "# Enkla statistik\n",
        "print(f\"\\nMedeltemperatur: {sum(temperaturer) / len(temperaturer):.1f}°C\")\n",
        "print(f\"Högsta temperatur: {max(temperaturer)}°C\")\n",
        "print(f\"Lägsta temperatur: {min(temperaturer)}°C\")\n"
      ]
    },
    {
      "cell_type": "raw",
      "metadata": {
        "vscode": {
          "languageId": "raw"
        }
      },
      "source": [
        "## Data analys med Pandas\n"
      ]
    },
    {
      "cell_type": "code",
      "execution_count": null,
      "metadata": {},
      "outputs": [],
      "source": [
        "import pandas as pd\n",
        "import numpy as np\n",
        "\n",
        "# Skapa en DataFrame med exempel data\n",
        "data = {\n",
        "    'Stad': ['Stockholm', 'Göteborg', 'Malmö', 'Uppsala', 'Västerås'],\n",
        "    'Befolkning': [975551, 583056, 347949, 230767, 154049],\n",
        "    'Temperatur': [22, 18, 25, 20, 19],\n",
        "    'Regndagar': [5, 8, 3, 6, 4]\n",
        "}\n",
        "\n",
        "df = pd.DataFrame(data)\n",
        "\n",
        "print(\"Svenska städer data:\")\n",
        "print(df)\n",
        "\n",
        "print(f\"\\nStädernas grundstatistik:\")\n",
        "print(df.describe())\n"
      ]
    },
    {
      "cell_type": "raw",
      "metadata": {
        "vscode": {
          "languageId": "raw"
        }
      },
      "source": [
        "## Visualisering med Matplotlib\n"
      ]
    },
    {
      "cell_type": "code",
      "execution_count": null,
      "metadata": {},
      "outputs": [],
      "source": [
        "import matplotlib.pyplot as plt\n",
        "\n",
        "# Skapa ett enkelt stapeldiagram\n",
        "plt.figure(figsize=(10, 6))\n",
        "\n",
        "# Temperatur diagram\n",
        "plt.subplot(1, 2, 1)\n",
        "plt.bar(df['Stad'], df['Temperatur'], color='orange', alpha=0.7)\n",
        "plt.title('Temperatur per stad')\n",
        "plt.ylabel('Temperatur (°C)')\n",
        "plt.xticks(rotation=45)\n",
        "\n",
        "# Befolkning diagram\n",
        "plt.subplot(1, 2, 2)\n",
        "plt.bar(df['Stad'], df['Befolkning'], color='blue', alpha=0.7)\n",
        "plt.title('Befolkning per stad')\n",
        "plt.ylabel('Befolkning')\n",
        "plt.xticks(rotation=45)\n",
        "\n",
        "plt.tight_layout()\n",
        "plt.show()\n",
        "\n",
        "# Skapa ett scatter plot\n",
        "plt.figure(figsize=(8, 6))\n",
        "plt.scatter(df['Temperatur'], df['Befolkning'], s=100, alpha=0.7, color='green')\n",
        "\n",
        "# Lägg till etiketter för varje punkt\n",
        "for i, stad in enumerate(df['Stad']):\n",
        "    plt.annotate(stad, (df['Temperatur'][i], df['Befolkning'][i]), \n",
        "                xytext=(5, 5), textcoords='offset points')\n",
        "\n",
        "plt.xlabel('Temperatur (°C)')\n",
        "plt.ylabel('Befolkning')\n",
        "plt.title('Temperatur vs Befolkning')\n",
        "plt.grid(True, alpha=0.3)\n",
        "plt.show()\n"
      ]
    },
    {
      "cell_type": "raw",
      "metadata": {
        "vscode": {
          "languageId": "raw"
        }
      },
      "source": [
        "## Interaktiva funktioner\n",
        "\n",
        "Jupyter notebooks stöder interaktiva widgets och funktioner:\n"
      ]
    },
    {
      "cell_type": "code",
      "execution_count": null,
      "metadata": {},
      "outputs": [],
      "source": [
        "from ipywidgets import interact, IntSlider\n",
        "import numpy as np\n",
        "\n",
        "# Skapa en interaktiv funktion för att visa matematiska funktioner\n",
        "def plot_function(frequency=1, amplitude=1):\n",
        "    x = np.linspace(0, 4*np.pi, 1000)\n",
        "    y = amplitude * np.sin(frequency * x)\n",
        "    \n",
        "    plt.figure(figsize=(10, 4))\n",
        "    plt.plot(x, y, linewidth=2)\n",
        "    plt.title(f'Sinusfunktion: {amplitude} * sin({frequency} * x)')\n",
        "    plt.xlabel('x')\n",
        "    plt.ylabel('y')\n",
        "    plt.grid(True, alpha=0.3)\n",
        "    plt.show()\n",
        "\n",
        "# Skapa interaktiva sliders\n",
        "interact(plot_function, \n",
        "         frequency=IntSlider(min=1, max=5, step=1, value=1),\n",
        "         amplitude=IntSlider(min=1, max=3, step=1, value=1))\n"
      ]
    },
    {
      "cell_type": "raw",
      "metadata": {
        "vscode": {
          "languageId": "raw"
        }
      },
      "source": [
        "## Hur du använder Jupyter\n",
        "\n",
        "### Starta Jupyter\n",
        "\n",
        "1. **Öppna terminal** och navigera till ditt projekt\n",
        "2. **Kör kommandot:** `jupyter notebook` eller `jupyter lab`\n",
        "3. **En webbläsare öppnas** med Jupyter interface\n",
        "\n",
        "### Kortkommandon (Viktiga!)\n",
        "\n",
        "**Command Mode (blå cell):**\n",
        "- `Enter` - Växla till Edit mode\n",
        "- `A` - Lägg till cell ovanför\n",
        "- `B` - Lägg till cell nedanför\n",
        "- `DD` - Ta bort cell\n",
        "- `M` - Ändra till Markdown cell\n",
        "- `Y` - Ändra till kod cell\n",
        "\n",
        "**Edit Mode (grön cell):**\n",
        "- `Esc` - Växla till Command mode\n",
        "- `Shift + Enter` - Kör cell och gå till nästa\n",
        "- `Ctrl + Enter` - Kör cell och stanna kvar\n",
        "- `Tab` - Kod autocompletion\n",
        "\n",
        "### Tips för att använda Jupyter effektivt\n",
        "\n",
        "1. **Använd beskrivande celkommentarer**\n",
        "2. **Kör celler i ordning för att undvika konflikter**\n",
        "3. **Spara ofta med Ctrl+S**\n",
        "4. **Använd Markdown för dokumentation**\n",
        "5. **Dela upp kod i små, logiska celler**\n",
        "6. **Använd `?` efter en funktion för hjälp, t.ex. `print?`**\n"
      ]
    }
  ],
  "metadata": {
    "language_info": {
      "name": "python"
    }
  },
  "nbformat": 4,
  "nbformat_minor": 2
}
